{
 "cells": [
  {
   "cell_type": "markdown",
   "metadata": {},
   "source": [
    "# Data Profiling and Imputation\n",
    "\n",
    "This notebook demonstrates an exercise at profiling the data for null values and replacing these with non-null values using concepts such as conditional probability."
   ]
  },
  {
   "cell_type": "markdown",
   "metadata": {},
   "source": [
    "**Reading the Input File**"
   ]
  },
  {
   "cell_type": "code",
   "execution_count": 12,
   "metadata": {},
   "outputs": [],
   "source": [
    "import pandas as pd\n",
    "import numpy as np\n",
    "df=pd.read_csv('../flixNet/dataset/data/attributes.csv')"
   ]
  },
  {
   "cell_type": "markdown",
   "metadata": {},
   "source": [
    "**Checking the Sample size for each Attribute**\n"
   ]
  },
  {
   "cell_type": "code",
   "execution_count": 13,
   "metadata": {},
   "outputs": [
    {
     "name": "stdout",
     "output_type": "stream",
     "text": [
      "There are 7 variations in neck size. All the values include:-[6.0, 5.0, 1.0, 4.0, 0.0, 2.0, 3.0]\n",
      "There are 4 variations in sleeve length. All the values include:-[3.0, 1.0, 0.0, 2.0]\n",
      "There are 10 variations in patterns. All the values include:-[4.0, 9.0, 8.0, 6.0, 1.0, 3.0, 7.0, 2.0, 0.0, 5.0]\n"
     ]
    }
   ],
   "source": [
    "sample_neck=df.neck.dropna().unique().tolist()\n",
    "sample_neck_length=len(sample_neck)\n",
    "print(\"There are {} variations in neck size. All the values include:-{}\".format(sample_neck_length,sample_neck))\n",
    "sample_sleeve=df.sleeve_length.dropna().unique().tolist()\n",
    "sample_sleeve_length=len(sample_sleeve)\n",
    "print(\"There are {} variations in sleeve length. All the values include:-{}\".format(sample_sleeve_length,sample_sleeve))\n",
    "sample_pattern=df.pattern.dropna().unique().tolist()\n",
    "sample_pattern_length=len(sample_pattern)\n",
    "print(\"There are {} variations in patterns. All the values include:-{}\".format(sample_pattern_length,sample_pattern))\n",
    "\n"
   ]
  },
  {
   "cell_type": "markdown",
   "metadata": {},
   "source": [
    "Here we check the frequency of null values among various attributes. "
   ]
  },
  {
   "cell_type": "code",
   "execution_count": 14,
   "metadata": {},
   "outputs": [
    {
     "data": {
      "text/plain": [
       "<matplotlib.axes._subplots.AxesSubplot at 0x7fd72be3b2e8>"
      ]
     },
     "execution_count": 14,
     "metadata": {},
     "output_type": "execute_result"
    },
    {
     "data": {
      "image/png": "[encoded data removed]",
      "text/plain": [
       "<Figure size 432x288 with 1 Axes>"
      ]
     },
     "metadata": {
      "needs_background": "light"
     },
     "output_type": "display_data"
    }
   ],
   "source": [
    "from matplotlib import pyplot\n",
    "\n",
    "for i in df.index:\n",
    "    row=pd.Series(df.loc[i,['neck','sleeve_length','pattern']])\n",
    "    df.loc[i,'no_of_missing']=row.isnull().sum()\n",
    "    #Concatenate all the attribute values in a row.\n",
    "    df.loc[i,'all_fields_str']=str(df.loc[i,'neck'])+'-'+str(df.loc[i,'sleeve_length'])+'-'+str(df.loc[i,'pattern'])\n",
    "\n",
    "df.no_of_missing.plot('hist')"
   ]
  },
  {
   "cell_type": "markdown",
   "metadata": {},
   "source": [
    "As shown in the graph it is clearly evident that around 1300 rows have all the values present. However,    \n",
    "\n",
    "1) No of rows missing one value is around 900  \n",
    "2) No of rows missing two values is around 220  \n",
    "3) Very few values have all the values missing  \n",
    "\n",
    "We shall tackle them one by one."
   ]
  },
  {
   "cell_type": "markdown",
   "metadata": {},
   "source": [
    "# All Three Attributes are NULL\n",
    "\n",
    "Here we try to find out the combination of the three attributes that is the most frequent in the dataset."
   ]
  },
  {
   "cell_type": "code",
   "execution_count": 15,
   "metadata": {},
   "outputs": [
    {
     "name": "stdout",
     "output_type": "stream",
     "text": [
      "6.0-3.0-9.0\n"
     ]
    }
   ],
   "source": [
    "most_common=pd.DataFrame.from_dict(df['all_fields_str'].value_counts().to_dict(),orient='index',columns=['frequency_of_tshirt'],dtype='int')\n",
    "most_common['pattern_type']=most_common.index\n",
    "most_common.reset_index(inplace=True,drop=True)\n",
    "most_common_combination = most_common[most_common.frequency_of_tshirt==most_common['frequency_of_tshirt'].max()]\n",
    "print(most_common_combination.pattern_type[0])"
   ]
  },
  {
   "cell_type": "markdown",
   "metadata": {},
   "source": [
    "As we can see that the most common combination of neck, sleeve length and pattern attributes is **6,3,9** repectively.\n",
    "We will replace all instances where all the three attributes are null with these values."
   ]
  },
  {
   "cell_type": "code",
   "execution_count": 16,
   "metadata": {},
   "outputs": [],
   "source": [
    "for i in df[df.no_of_missing==3.0].index:\n",
    "        df.loc[i,'neck']=6.0\n",
    "        df.loc[i,'sleeve_length']=3.0\n",
    "        df.loc[i,'pattern']=9.0\n",
    "        df.loc[i,'no_of_missing']=0.0"
   ]
  },
  {
   "cell_type": "code",
   "execution_count": 17,
   "metadata": {},
   "outputs": [
    {
     "data": {
      "text/plain": [
       "<matplotlib.axes._subplots.AxesSubplot at 0x7fd72bd27278>"
      ]
     },
     "execution_count": 17,
     "metadata": {},
     "output_type": "execute_result"
    },
    {
     "data": {
      "image/png": "[encoded data removed]",
      "text/plain": [
       "<Figure size 432x288 with 1 Axes>"
      ]
     },
     "metadata": {
      "needs_background": "light"
     },
     "output_type": "display_data"
    }
   ],
   "source": [
    "for i in df.index:\n",
    "    row=pd.Series(df.loc[i,['neck','sleeve_length','pattern']])\n",
    "    df.loc[i,'no_of_missing']=row.isnull().sum()\n",
    "df.no_of_missing.plot('hist')"
   ]
  },
  {
   "cell_type": "markdown",
   "metadata": {},
   "source": [
    "From the graph above, it is evident that the above operation removed all the cases of triple null values."
   ]
  },
  {
   "cell_type": "markdown",
   "metadata": {},
   "source": [
    "# Two Attributes are NULL\n",
    "\n",
    "Dealing with cases where two out of three attributes are null, we can make use of conditional probability to predict the probability of the missing values and fill values accordingly. \n",
    "\n",
    "For each non-null value of an attribute, we calculate the probability of occurence of all combinations of the other two attributes.For instance, if a row is 4,#NA,#NA. Here, given that neck =4, we'll try to find out the probability of all combinations of other two attributes such as (0,1), (2,4), (3,4) etc."
   ]
  },
  {
   "cell_type": "code",
   "execution_count": 18,
   "metadata": {},
   "outputs": [],
   "source": [
    "import itertools\n",
    "\n",
    "def probab_when_two_nulls(df,attribute,value):\n",
    "    if(attribute=='neck'):\n",
    "        product=list(itertools.product(sample_sleeve,sample_pattern))\n",
    "        probablist=[]\n",
    "        for i in product:\n",
    "            probability=len(df[(df.neck==value) & (df.sleeve_length==i[0]) & (df.pattern==i[1])])/len(df[df.neck==value])\n",
    "            probablist.append([value,i[0],i[1],probability])\n",
    "        tempdf=pd.DataFrame(probablist,columns=['neck','sleeve_length','pattern','probability'])\n",
    "        return(tempdf[tempdf['probability'].max()==tempdf.probability])\n",
    "    \n",
    "    elif(attribute=='sleeve_length'):\n",
    "        product=list(itertools.product(sample_neck,sample_pattern))\n",
    "        probablist=[]\n",
    "        for i in product:\n",
    "            probability=len(df[(df.neck==i[0]) & (df.sleeve_length==value) & (df.pattern==i[1])])/len(df[df.sleeve_length==value])\n",
    "            probablist.append([i[0],value,i[1],probability])\n",
    "        tempdf=pd.DataFrame(probablist,columns=['neck','sleeve_length','pattern','probability'])\n",
    "        return(tempdf[tempdf['probability'].max()==tempdf.probability])\n",
    "    else:\n",
    "        product=list(itertools.product(sample_neck,sample_sleeve))\n",
    "        probablist=[]\n",
    "        for i in product:\n",
    "            probability=len(df[(df.neck==i[0]) & (df.sleeve_length==i[1]) & (df.pattern==value)])/len(df[df.pattern==value])\n",
    "            probablist.append([i[0],i[1],value,probability])\n",
    "        tempdf=pd.DataFrame(probablist,columns=['neck','sleeve_length','pattern','probability'])\n",
    "        return(tempdf[tempdf['probability'].max()==tempdf.probability])\n",
    "\n",
    "   \n",
    "neck_fillers = pd.DataFrame(dtype=float)\n",
    "sleeve_fillers = pd.DataFrame(dtype=float)\n",
    "pattern_fillers = pd.DataFrame(dtype=float)\n",
    "\n",
    "for i in sample_neck:\n",
    "    temp = probab_when_two_nulls(df,'neck',i)\n",
    "    neck_fillers = neck_fillers.append(temp)\n",
    "for i in sample_sleeve:\n",
    "    temp = probab_when_two_nulls(df,'sleeve_length',i)\n",
    "    sleeve_fillers = sleeve_fillers.append(temp)\n",
    "for i in sample_pattern:\n",
    "    temp = probab_when_two_nulls(df,'pattern',i)\n",
    "    pattern_fillers = pattern_fillers.append(temp)\n",
    "    \n",
    "for i in df[df.no_of_missing==2.0].index:\n",
    "    if(str(df.loc[i,'neck']).lower()!='nan'):\n",
    "        a=df.loc[i,'neck']\n",
    "        df.loc[i,'pattern']=neck_fillers[neck_fillers.neck==df.loc[i,'neck']]['pattern'].tolist()[0]\n",
    "        df.loc[i,'sleeve_length']=neck_fillers[neck_fillers.neck==df.loc[i,'neck']]['sleeve_length'].tolist()[0]\n",
    "        df.loc[i,'no_of_missing']=0.0        \n",
    "    if(str(df.loc[i,'sleeve_length']).lower()!='nan'):\n",
    "        df.loc[i,'neck']=sleeve_fillers[sleeve_fillers.sleeve_length==df.loc[i,'sleeve_length']]['neck'].tolist()[0]\n",
    "        df.loc[i,'pattern']=sleeve_fillers[sleeve_fillers.sleeve_length==df.loc[i,'sleeve_length']]['pattern'].tolist()[0]\n",
    "    if(str(df.loc[i,'pattern']).lower()!='nan'):\n",
    "        df.loc[i,'neck']=pattern_fillers[pattern_fillers.pattern==df.loc[i,'pattern']]['neck'].tolist()[0]\n",
    "        df.loc[i,'sleeve_length']=pattern_fillers[pattern_fillers.pattern==df.loc[i,'pattern']]['sleeve_length'].tolist()[0]"
   ]
  },
  {
   "cell_type": "code",
   "execution_count": 19,
   "metadata": {},
   "outputs": [
    {
     "data": {
      "text/plain": [
       "<matplotlib.axes._subplots.AxesSubplot at 0x7fd72bca2438>"
      ]
     },
     "execution_count": 19,
     "metadata": {},
     "output_type": "execute_result"
    },
    {
     "data": {
      "image/png": "[encoded data removed]",
      "text/plain": [
       "<Figure size 432x288 with 1 Axes>"
      ]
     },
     "metadata": {
      "needs_background": "light"
     },
     "output_type": "display_data"
    }
   ],
   "source": [
    "for i in df.index:\n",
    "    row=pd.Series(df.loc[i,['neck','sleeve_length','pattern']])\n",
    "    df.loc[i,'no_of_missing']=row.isnull().sum()\n",
    "df.no_of_missing.plot('hist')"
   ]
  },
  {
   "cell_type": "markdown",
   "metadata": {},
   "source": [
    "We now have only cases where one attribute value in a row is null."
   ]
  },
  {
   "cell_type": "markdown",
   "metadata": {},
   "source": [
    "# One Attribute is NULL\n",
    "\n",
    "Finally, we handle the case where only one attribute value is null. Here too we find the attribute value using conditional probability with a subtle difference. Here, we are going to find the probability of one attribute given that the other two are already known. "
   ]
  },
  {
   "cell_type": "code",
   "execution_count": 20,
   "metadata": {},
   "outputs": [],
   "source": [
    "def fill_one_missing_value(df,attribute,value1,value2):\n",
    "    \n",
    "    if (attribute=='neck'):\n",
    "        sleeve=value1\n",
    "        pattern=value2\n",
    "        prob_list=[]\n",
    "        for i in sample_neck:\n",
    "            probability=len(df[(df.sleeve_length==sleeve)&(df.neck==i)&(df.pattern==value2)])/len(df[(df.sleeve_length==sleeve)&(df.pattern==pattern)])\n",
    "            prob_list.append([i,sleeve,pattern,probability])\n",
    "        tempdf=pd.DataFrame(prob_list,columns=['neck','sleeve_length','pattern','probability'])\n",
    "        \n",
    "        return(tempdf[tempdf['probability'].max()==tempdf.probability])\n",
    "    \n",
    "    if (attribute=='sleeve_length'):\n",
    "        neck=value1\n",
    "        pattern=value2\n",
    "        prob_list=[]\n",
    "        for i in sample_sleeve:\n",
    "            probability=len(df[(df.sleeve_length==i)&(df.neck==value1)&(df.pattern==value2)])/len(df[(df.neck==neck)&(df.pattern==pattern)])\n",
    "            prob_list.append([neck,i,pattern,probability])\n",
    "        tempdf=pd.DataFrame(prob_list,columns=['neck','sleeve_length','pattern','probability'])\n",
    "        \n",
    "        return(tempdf[tempdf['probability'].max()==tempdf.probability])\n",
    "    \n",
    "    if (attribute=='pattern'):\n",
    "        neck=value1\n",
    "        sleeve=value2\n",
    "        prob_list=[]\n",
    "        for i in sample_pattern:\n",
    "            probability=len(df[(df.sleeve_length==value2)&(df.neck==value1)&(df.pattern==i)])/len(df[(df.sleeve_length==sleeve)&(df.neck==neck)])\n",
    "            prob_list.append([neck,sleeve,i,probability])\n",
    "        tempdf=pd.DataFrame(prob_list,columns=['neck','sleeve_length','pattern','probability'])\n",
    "        \n",
    "        return(tempdf[tempdf['probability'].max()==tempdf.probability])\n",
    "    \n",
    "for i in df[df.no_of_missing==1].index:\n",
    "    if(str(df.loc[i,'neck']).lower()=='nan'):\n",
    "        temp=fill_one_missing_value(df,'neck',df.loc[i,'sleeve_length'],df.loc[i,'pattern'])\n",
    "        temp.reset_index(inplace=True,drop=True)\n",
    "        df.loc[i,'neck']=temp.loc[0,'neck']\n",
    "    if(str(df.loc[i,'sleeve_length']).lower()=='nan'):\n",
    "        temp=fill_one_missing_value(df,'sleeve_length',df.loc[i,'neck'],df.loc[i,'pattern'])\n",
    "        temp.reset_index(inplace=True,drop=True)\n",
    "        df.loc[i,'sleeve_length']=temp.loc[0,'sleeve_length']\n",
    "    if(str(df.loc[i,'pattern']).lower()=='nan'):\n",
    "        temp=fill_one_missing_value(df,'pattern',df.loc[i,'neck'],df.loc[i,'sleeve_length'])\n",
    "        temp.reset_index(inplace=True,drop=True)\n",
    "        df.loc[i,'pattern']=temp.loc[0,'pattern']\n",
    "            "
   ]
  },
  {
   "cell_type": "code",
   "execution_count": 21,
   "metadata": {},
   "outputs": [
    {
     "data": {
      "text/plain": [
       "<matplotlib.axes._subplots.AxesSubplot at 0x7fd72bda8828>"
      ]
     },
     "execution_count": 21,
     "metadata": {},
     "output_type": "execute_result"
    },
    {
     "data": {
      "image/png": "[encoded data removed]",
      "text/plain": [
       "<Figure size 432x288 with 1 Axes>"
      ]
     },
     "metadata": {
      "needs_background": "light"
     },
     "output_type": "display_data"
    }
   ],
   "source": [
    "for i in df.index:\n",
    "    row=pd.Series(df.loc[i,['neck','sleeve_length','pattern']])\n",
    "    df.loc[i,'no_of_missing']=row.isnull().sum()\n",
    "df.no_of_missing.plot('hist')"
   ]
  },
  {
   "cell_type": "markdown",
   "metadata": {},
   "source": [
    "Finally, all the null values have been removed from the dataset. We now save the annotation file for model training."
   ]
  },
  {
   "cell_type": "code",
   "execution_count": 23,
   "metadata": {},
   "outputs": [],
   "source": [
    "final_df = df[['filename', 'neck', 'sleeve_length', 'pattern']].copy()\n",
    "final_df.to_csv('dataset/data/data_imutated.csv', index=False)"
   ]
  },
  {
   "cell_type": "code",
   "execution_count": null,
   "metadata": {},
   "outputs": [],
   "source": []
  }
 ],
 "metadata": {
  "kernelspec": {
   "display_name": "Python 3",
   "language": "python",
   "name": "python3"
  },
  "language_info": {
   "codemirror_mode": {
    "name": "ipython",
    "version": 3
   },
   "file_extension": ".py",
   "mimetype": "text/x-python",
   "name": "python",
   "nbconvert_exporter": "python",
   "pygments_lexer": "ipython3",
   "version": "3.6.8"
  }
 },
 "nbformat": 4,
 "nbformat_minor": 2
}
